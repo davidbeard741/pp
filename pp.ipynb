{
  "nbformat": 4,
  "nbformat_minor": 0,
  "metadata": {
    "colab": {
      "provenance": [],
      "authorship_tag": "ABX9TyOP96b6nrOAKosG3t8t+9Gn",
      "include_colab_link": true
    },
    "kernelspec": {
      "name": "python3",
      "display_name": "Python 3"
    },
    "language_info": {
      "name": "python"
    }
  },
  "cells": [
    {
      "cell_type": "markdown",
      "metadata": {
        "id": "view-in-github",
        "colab_type": "text"
      },
      "source": [
        "<a href=\"https://colab.research.google.com/github/davidbeard741/pp/blob/main/pp.ipynb\" target=\"_parent\"><img src=\"https://colab.research.google.com/assets/colab-badge.svg\" alt=\"Open In Colab\"/></a>"
      ]
    },
    {
      "cell_type": "code",
      "execution_count": null,
      "metadata": {
        "id": "88mckSgueO1v"
      },
      "outputs": [],
      "source": [
        "import pandas as pd\n",
        "import requests\n",
        "\n",
        "# Replace 'your_api_key' with your actual API key\n",
        "api_key = 'your_api_key'\n",
        "\n",
        "def fetch_financial_data(symbol):\n",
        "    # Construct the API URL to fetch the financial data\n",
        "    url = f'https://financialmodelingprep.com/api/v3/quote/{symbol}?apikey={api_key}'\n",
        "    response = requests.get(url)\n",
        "    data = response.json()\n",
        "    return data[0] if data else None\n",
        "\n",
        "def calculate_pivot_points(data):\n",
        "    # Implement the logic to calculate pivot points based on the data\n",
        "    pivot_point = (data['high'] + data['low'] + data['close']) / 3\n",
        "    return pivot_point\n",
        "\n",
        "def main():\n",
        "    # Fetch SPY and ES data\n",
        "    symbols = ['SPY', 'ES']\n",
        "    results = []\n",
        "\n",
        "    for symbol in symbols:\n",
        "        data = fetch_financial_data(symbol)\n",
        "        if data:\n",
        "            pivot_point = calculate_pivot_points(data)\n",
        "            path = 'UPSIDE' if data['open'] > pivot_point else 'DOWNSIDE'\n",
        "            results.append({\n",
        "                'Symbol': symbol,\n",
        "                'Open': data['open'],\n",
        "                'High': data['high'],\n",
        "                'Low': data['low'],\n",
        "                'Close': data['close'],\n",
        "                'Pivot Point': pivot_point,\n",
        "                'Path of Least Resistance': path\n",
        "            })\n",
        "\n",
        "    # Convert the results to a pandas DataFrame\n",
        "    df = pd.DataFrame(results)\n",
        "\n",
        "    # Write the DataFrame to a CSV file\n",
        "    df.to_csv('/mnt/data/love-you.csv', index=False)\n",
        "\n",
        "    print(\"Data written to 'love-you.csv' successfully.\")\n",
        "\n",
        "# Run the main function\n",
        "if __name__ == \"__main__\":\n",
        "    main()\n",
        "\n",
        "from google.colab import files\n",
        "files.download('/mnt/data/love-you.csv')"
      ]
    }
  ]
}