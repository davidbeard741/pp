{
  "nbformat": 4,
  "nbformat_minor": 0,
  "metadata": {
    "colab": {
      "provenance": [],
      "authorship_tag": "ABX9TyPuWVTTZltu1iEzp+b73aSh",
      "include_colab_link": true
    },
    "kernelspec": {
      "name": "python3",
      "display_name": "Python 3"
    },
    "language_info": {
      "name": "python"
    }
  },
  "cells": [
    {
      "cell_type": "markdown",
      "metadata": {
        "id": "view-in-github",
        "colab_type": "text"
      },
      "source": [
        "<a href=\"https://colab.research.google.com/github/davidbeard741/pp/blob/main/pp2.ipynb\" target=\"_parent\"><img src=\"https://colab.research.google.com/assets/colab-badge.svg\" alt=\"Open In Colab\"/></a>"
      ]
    },
    {
      "cell_type": "code",
      "execution_count": null,
      "metadata": {
        "id": "2D8-dCOdkXHO"
      },
      "outputs": [],
      "source": [
        "import pandas as pd\n",
        "\n",
        "def calculate_pivot_points(data):\n",
        "    # Logic to calculate pivot points remains the same\n",
        "    pivot_point = (data['high'] + data['low'] + data['close']) / 3\n",
        "    return pivot_point\n",
        "\n",
        "def main():\n",
        "    # Manually define the financial data for SPY and ES\n",
        "    financial_data = {\n",
        "        'SPY': {'open': 100, 'high': 110, 'low': 90, 'close': 105},\n",
        "        'ES': {'open': 200, 'high': 210, 'low': 190, 'close': 205}\n",
        "    }\n",
        "\n",
        "    results = []\n",
        "    for symbol, data in financial_data.items():\n",
        "        pivot_point = calculate_pivot_points(data)\n",
        "        path = 'UPSIDE' if data['open'] > pivot_point else 'DOWNSIDE'\n",
        "        results.append({\n",
        "            'Symbol': symbol,\n",
        "            'Open': data['open'],\n",
        "            'High': data['high'],\n",
        "            'Low': data['low'],\n",
        "            'Close': data['close'],\n",
        "            'Pivot Point': pivot_point,\n",
        "            'Path of Least Resistance': path\n",
        "        })\n",
        "\n",
        "    # Convert the results to a pandas DataFrame\n",
        "    df = pd.DataFrame(results)\n",
        "\n",
        "    # Write the DataFrame to a CSV file\n",
        "    df.to_csv('/mnt/data/your_output_file.csv', index=False)\n",
        "\n",
        "    print(\"Data written to 'your_output_file.csv' successfully.\")\n",
        "\n",
        "if __name__ == \"__main__\":\n",
        "    main()\n",
        "\n",
        "from google.colab import files\n",
        "files.download('/mnt/data/your_output_file.csv')"
      ]
    }
  ]
}