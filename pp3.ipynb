{
  "nbformat": 4,
  "nbformat_minor": 0,
  "metadata": {
    "colab": {
      "provenance": [],
      "authorship_tag": "ABX9TyMBwx6l7TddiJGGPRwjwqoA",
      "include_colab_link": true
    },
    "kernelspec": {
      "name": "python3",
      "display_name": "Python 3"
    },
    "language_info": {
      "name": "python"
    }
  },
  "cells": [
    {
      "cell_type": "markdown",
      "metadata": {
        "id": "view-in-github",
        "colab_type": "text"
      },
      "source": [
        "<a href=\"https://colab.research.google.com/github/davidbeard741/pp/blob/main/pp3.ipynb\" target=\"_parent\"><img src=\"https://colab.research.google.com/assets/colab-badge.svg\" alt=\"Open In Colab\"/></a>"
      ]
    },
    {
      "cell_type": "code",
      "execution_count": 2,
      "metadata": {
        "colab": {
          "base_uri": "https://localhost:8080/",
          "height": 55
        },
        "id": "2D8-dCOdkXHO",
        "outputId": "faa33a52-2899-407d-cbd2-15f4593f4db6"
      },
      "outputs": [
        {
          "output_type": "stream",
          "name": "stdout",
          "text": [
            "Data written to 'your_output_file.csv' successfully.\n"
          ]
        },
        {
          "output_type": "display_data",
          "data": {
            "text/plain": [
              "<IPython.core.display.Javascript object>"
            ],
            "application/javascript": [
              "\n",
              "    async function download(id, filename, size) {\n",
              "      if (!google.colab.kernel.accessAllowed) {\n",
              "        return;\n",
              "      }\n",
              "      const div = document.createElement('div');\n",
              "      const label = document.createElement('label');\n",
              "      label.textContent = `Downloading \"${filename}\": `;\n",
              "      div.appendChild(label);\n",
              "      const progress = document.createElement('progress');\n",
              "      progress.max = size;\n",
              "      div.appendChild(progress);\n",
              "      document.body.appendChild(div);\n",
              "\n",
              "      const buffers = [];\n",
              "      let downloaded = 0;\n",
              "\n",
              "      const channel = await google.colab.kernel.comms.open(id);\n",
              "      // Send a message to notify the kernel that we're ready.\n",
              "      channel.send({})\n",
              "\n",
              "      for await (const message of channel.messages) {\n",
              "        // Send a message to notify the kernel that we're ready.\n",
              "        channel.send({})\n",
              "        if (message.buffers) {\n",
              "          for (const buffer of message.buffers) {\n",
              "            buffers.push(buffer);\n",
              "            downloaded += buffer.byteLength;\n",
              "            progress.value = downloaded;\n",
              "          }\n",
              "        }\n",
              "      }\n",
              "      const blob = new Blob(buffers, {type: 'application/binary'});\n",
              "      const a = document.createElement('a');\n",
              "      a.href = window.URL.createObjectURL(blob);\n",
              "      a.download = filename;\n",
              "      div.appendChild(a);\n",
              "      a.click();\n",
              "      div.remove();\n",
              "    }\n",
              "  "
            ]
          },
          "metadata": {}
        },
        {
          "output_type": "display_data",
          "data": {
            "text/plain": [
              "<IPython.core.display.Javascript object>"
            ],
            "application/javascript": [
              "download(\"download_cbf0b6d7-f0a2-4b33-a464-5fdbfbcb4482\", \"your_output_file.csv\", 158)"
            ]
          },
          "metadata": {}
        }
      ],
      "source": [
        "import pandas as pd\n",
        "\n",
        "def calculate_pivot_points(data):\n",
        "    # Logic to calculate pivot points remains the same\n",
        "    pivot_point = (data['high'] + data['low'] + data['close']) / 3\n",
        "    return pivot_point\n",
        "\n",
        "def main():\n",
        "    # Manually define the financial data for SPY and ES\n",
        "    financial_data = {\n",
        "        'SPY': {'open': 100, 'high': 110, 'low': 90, 'close': 105},\n",
        "        'ES': {'open': 200, 'high': 210, 'low': 190, 'close': 205}\n",
        "    }\n",
        "\n",
        "    results = []\n",
        "    for symbol, data in financial_data.items():\n",
        "        pivot_point = calculate_pivot_points(data)\n",
        "        path = 'UPSIDE' if data['open'] > pivot_point else 'DOWNSIDE'\n",
        "        results.append({\n",
        "            'Symbol': symbol,\n",
        "            'Open': data['open'],\n",
        "            'High': data['high'],\n",
        "            'Low': data['low'],\n",
        "            'Close': data['close'],\n",
        "            'Pivot Point': pivot_point,\n",
        "            'Path of Least Resistance': path\n",
        "        })\n",
        "\n",
        "    # Convert the results to a pandas DataFrame\n",
        "    df = pd.DataFrame(results)\n",
        "\n",
        "    # Write the DataFrame to a CSV file\n",
        "    df.to_csv('your_output_file.csv', index=False)\n",
        "\n",
        "    print(\"Data written to 'your_output_file.csv' successfully.\")\n",
        "\n",
        "if __name__ == \"__main__\":\n",
        "    main()\n",
        "\n",
        "from google.colab import files\n",
        "files.download('your_output_file.csv')"
      ]
    }
  ]
}